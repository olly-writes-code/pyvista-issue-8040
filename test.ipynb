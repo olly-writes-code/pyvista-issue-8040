{
 "cells": [
  {
   "cell_type": "code",
   "execution_count": 1,
   "id": "c5c3e92c",
   "metadata": {},
   "outputs": [
    {
     "name": "stderr",
     "output_type": "stream",
     "text": [
      "usage: ipykernel_launcher.py [-h] [--server] [--banner] [--app] [--no-http]\n",
      "                             [--authKeyFile AUTHKEYFILE] [--hot-reload]\n",
      "                             [--trame-args TRAME_ARGS] [--follow-symlinks]\n",
      "                             [--debug] [--nosignalhandlers] [--host HOST]\n",
      "                             [-p PORT] [--timeout TIMEOUT] [--content CONTENT]\n",
      "                             [--authKey AUTHKEY] [--ws-endpoint WS]\n",
      "                             [--no-ws-endpoint] [--fs-endpoints FSENDPOINTS]\n",
      "                             [--reverse-url REVERSE_URL] [--ssl SSL]\n",
      "ipykernel_launcher.py: error: ambiguous option: --f=/Users/olammas/Library/Jupyter/runtime/kernel-v39ce94bbfdce22bb620b0cddb842b1b45f11dbe23.json could match --follow-symlinks, --fs-endpoints\n"
     ]
    },
    {
     "ename": "SystemExit",
     "evalue": "2",
     "output_type": "error",
     "traceback": [
      "An exception has occurred, use %tb to see the full traceback.\n",
      "\u001b[31mSystemExit\u001b[39m\u001b[31m:\u001b[39m 2\n"
     ]
    },
    {
     "name": "stderr",
     "output_type": "stream",
     "text": [
      "/Users/olammas/Documents/projects/pyvista-test/.venv/lib/python3.13/site-packages/IPython/core/interactiveshell.py:3707: UserWarning: To exit: use 'exit', 'quit', or Ctrl-D.\n",
      "  warn(\"To exit: use 'exit', 'quit', or Ctrl-D.\", stacklevel=1)\n"
     ]
    }
   ],
   "source": [
    "import pyvista as pv\n",
    "mesh = pv.Cube()\n",
    "mesh.plot(show_edges=True, line_width=5)"
   ]
  }
 ],
 "metadata": {
  "kernelspec": {
   "display_name": "pyvista-test",
   "language": "python",
   "name": "python3"
  },
  "language_info": {
   "codemirror_mode": {
    "name": "ipython",
    "version": 3
   },
   "file_extension": ".py",
   "mimetype": "text/x-python",
   "name": "python",
   "nbconvert_exporter": "python",
   "pygments_lexer": "ipython3",
   "version": "3.13.5"
  }
 },
 "nbformat": 4,
 "nbformat_minor": 5
}
